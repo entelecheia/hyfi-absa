{
 "cells": [
  {
   "attachments": {},
   "cell_type": "markdown",
   "metadata": {
    "id": "cjgz1WTcPWee"
   },
   "source": [
    "# HyFI Test Notebook\n",
    "\n",
    "This Jupyter Notebook is used to test the HyFI package. It contains examples of how to use the package and how to create a new HyFI model.\n"
   ]
  },
  {
   "cell_type": "code",
   "execution_count": 2,
   "metadata": {},
   "outputs": [],
   "source": [
    "from hyabsa import HyFI"
   ]
  },
  {
   "attachments": {},
   "cell_type": "markdown",
   "metadata": {},
   "source": [
    "## Check Version\n",
    "\n",
    "Now, let's get the version of the `hyfi` package.\n"
   ]
  },
  {
   "cell_type": "code",
   "execution_count": 5,
   "metadata": {
    "id": "BzxPwsOVPWef"
   },
   "outputs": [
    {
     "name": "stdout",
     "output_type": "stream",
     "text": [
      "\n",
      "name        : HyFI\n",
      "authors     : Young Joon Lee <entelecheia@hotmail.com>\n",
      "description : Hydra Fast Interface (Hydra and Pydantic based interface framework)\n",
      "homepage    : https://hyfi.entelecheia.ai\n",
      "license     : MIT\n",
      "version     : 0.2.0\n",
      "\n",
      "Execute `hyabsa --help` to see what you can do with HyFI\n",
      "None\n",
      "name        : HyFI\n",
      "authors     : Young Joon Lee <entelecheia@hotmail.com>\n",
      "description : Hydra Fast Interface (Hydra and Pydantic based interface framework)\n",
      "homepage    : https://hyfi.entelecheia.ai\n",
      "license     : MIT\n",
      "version     : 0.2.0\n",
      "\n",
      "Execute `hyabsa --help` to see what you can do with HyFI\n",
      "None\n"
     ]
    }
   ],
   "source": [
    "print(HyFI.about())\n"
   ]
  },
  {
   "cell_type": "code",
   "execution_count": 13,
   "metadata": {},
   "outputs": [
    {
     "name": "stdout",
     "output_type": "stream",
     "text": [
      "The system workspace root is /mnt/nvme1n1p2/home/yj.lee/workspace and the user is yj.lee.\n",
      "\n"
     ]
    }
   ],
   "source": [
    "# Test expanding $PWD and $USER variables\n",
    "posix_expr = \"The system workspace root is $WORKSPACE_ROOT and the user is $USER.\"\n",
    "\n",
    "expanded_expr = HyFI.expand_posix_vars(posix_expr)\n",
    "print(expanded_expr)\n"
   ]
  },
  {
   "attachments": {},
   "cell_type": "markdown",
   "metadata": {},
   "source": [
    "## Initialize Project\n",
    "\n",
    "We'll initialize the project using the `HyFI.init_project` function. The function takes the following parameters:\n",
    "\n",
    "- `project_name`: Name of the project to use.\n",
    "- `project_description`: Description of the project that will be used.\n",
    "- `project_root`: Root directory of the project.\n",
    "- `project_workspace_name`: Name of the project's workspace directory.\n",
    "- `global_hyfi_root`: Root directory of the global hyfi.\n",
    "- `global_workspace_name`: Name of the global hierachical workspace directory.\n",
    "- `num_workers`: Number of workers to run.\n",
    "- `log_level`: Log level for the log.\n",
    "- `autotime`: Whether to automatically set time and / or keep track of run times.\n",
    "- `retina`: Whether to use retina or not.\n",
    "- `verbose`: Enables or disables logging\n",
    "\n",
    "We'll check if we're running in Google Colab, and if so, we'll mount Google Drive.\n"
   ]
  },
  {
   "cell_type": "code",
   "execution_count": 14,
   "metadata": {},
   "outputs": [
    {
     "name": "stderr",
     "output_type": "stream",
     "text": [
      "INFO:hyfi.utils.notebooks:Google Colab not detected.\n",
      "INFO:hyfi.utils.notebooks:Extension autotime not found. Install it first.\n",
      "DEBUG:matplotlib.pyplot:Loaded backend module://matplotlib_inline.backend_inline version unknown.\n",
      "INFO:hyfi.utils.envs:[/mnt/nvme1n1p2/home/yj.lee/workspace/projects/hyfi-absa/tests/notebook/.env] not found, finding .env in parent dirs\n",
      "INFO:hyfi.utils.envs:Loaded .env from [/mnt/nvme1n1p2/home/yj.lee/workspace/projects/hyfi-absa/.env]\n",
      "DEBUG:hydra.core.utils:Setting JobRuntime:name=app\n",
      "DEBUG:hydra.core.utils:Setting JobRuntime:name=app\n",
      "DEBUG:hydra.core.utils:Setting JobRuntime:name=app\n",
      "DEBUG:hydra.core.utils:Setting JobRuntime:name=app\n",
      "DEBUG:hydra.core.utils:Setting JobRuntime:name=app\n",
      "DEBUG:hydra.core.utils:Setting JobRuntime:name=app\n",
      "DEBUG:hydra.core.utils:Setting JobRuntime:name=app\n",
      "DEBUG:hydra.core.utils:Setting JobRuntime:name=app\n",
      "INFO:hyfi.joblib.joblib:initialized batcher with <hyfi.joblib.batch.batcher.Batcher object at 0x7f73f95a6e80>\n",
      "INFO:hyfi.main.config:HyFi project initialized with hyfi\n"
     ]
    },
    {
     "name": "stdout",
     "output_type": "stream",
     "text": [
      "project_dir: /home/yj.lee/.hyfi/projects/hyfi\n",
      "project_workspace_dir: /home/yj.lee/.hyfi/projects/hyfi/workspace\n",
      " /home/yj.lee/.hyfi/projects/hyfi\n",
      "project_workspace_dir: /home/yj.lee/.hyfi/projects/hyfi/workspace\n"
     ]
    }
   ],
   "source": [
    "if HyFI.is_colab():\n",
    "    HyFI.mount_google_drive()\n",
    "\n",
    "ws = HyFI.init_project(\n",
    "    project_name=\"hyfi\",\n",
    "    log_level=\"DEBUG\",\n",
    "    verbose=True,\n",
    ")\n",
    "\n",
    "print(\"project_dir:\", ws.root_dir)\n",
    "print(\"project_workspace_dir:\", ws.workspace_dir)\n"
   ]
  },
  {
   "cell_type": "code",
   "execution_count": 15,
   "metadata": {},
   "outputs": [
    {
     "data": {
      "text/plain": [
       "{'DOTENV_FILENAME': '.env',\n",
       " 'DOTENV_DIR': '/mnt/nvme1n1p2/home/yj.lee/workspace/projects/hyfi-absa',\n",
       " 'DOTENV_FILE': '/mnt/nvme1n1p2/home/yj.lee/workspace/projects/hyfi-absa/.env',\n",
       " 'HYFI_SECRETS_DIR': './secrets',\n",
       " 'HYFI_RESOURCE_DIR': None,\n",
       " 'HYFI_GLOBAL_ROOT': '/home/yj.lee',\n",
       " 'HYFI_GLOBAL_WORKSPACE_NAME': '.hyfi',\n",
       " 'HYFI_PROJECT_NAME': 'hyfi',\n",
       " 'HYFI_PROJECT_DESC': '',\n",
       " 'HYFI_PROJECT_ROOT': '/home/yj.lee/.hyfi/projects/hyfi',\n",
       " 'HYFI_PROJECT_WORKSPACE_NAME': 'workspace',\n",
       " 'HYFI_LOG_LEVEL': 'WARNING',\n",
       " 'HYFI_VERBOSE': True,\n",
       " 'HYFI_NUM_WORKERS': -1,\n",
       " 'CACHED_PATH_CACHE_ROOT': '/home/yj.lee/.hyfi/projects/hyfi/workspace/.cache/cached_path',\n",
       " 'CUDA_DEVICE_ORDER': 'PCI_BUS_ID',\n",
       " 'CUDA_VISIBLE_DEVICES': None,\n",
       " 'WANDB_PROJECT': None,\n",
       " 'WANDB_DISABLED': None,\n",
       " 'WANDB_DIR': None,\n",
       " 'WANDB_NOTEBOOK_NAME': None,\n",
       " 'WANDB_SILENT': None,\n",
       " 'LABEL_STUDIO_SERVER': None,\n",
       " 'KMP_DUPLICATE_LIB_OK': 'True',\n",
       " 'TOKENIZERS_PARALLELISM': False}"
      ]
     },
     "execution_count": 15,
     "metadata": {},
     "output_type": "execute_result"
    }
   ],
   "source": [
    "ws.dotenv.dict()\n"
   ]
  },
  {
   "attachments": {},
   "cell_type": "markdown",
   "metadata": {},
   "source": [
    "## Compose Configuration\n",
    "\n",
    "We can use the `HyFI.compose` function to load a configuration file. In this example, we'll use the default configuration by specifying `path=__default__`.\n"
   ]
  },
  {
   "cell_type": "code",
   "execution_count": 16,
   "metadata": {},
   "outputs": [
    {
     "name": "stderr",
     "output_type": "stream",
     "text": [
      "DEBUG:hydra.core.utils:Setting JobRuntime:name=app\n",
      "DEBUG:hydra.core.utils:Setting JobRuntime:name=app\n"
     ]
    }
   ],
   "source": [
    "cfg = HyFI.compose(\"path=__batch__\")\n"
   ]
  },
  {
   "attachments": {},
   "cell_type": "markdown",
   "metadata": {},
   "source": [
    "## Display Configuration\n",
    "\n",
    "Now, let's print the loaded configuration using the `HyFI.print` function.\n"
   ]
  },
  {
   "cell_type": "code",
   "execution_count": 17,
   "metadata": {},
   "outputs": [
    {
     "name": "stdout",
     "output_type": "stream",
     "text": [
      "{'_config_name_': '__batch__',\n",
      " 'batch_name': '__batch__',\n",
      " 'task_name': '__test__',\n",
      " 'task_root': 'workspace'}\n",
      "'_config_name_': '__batch__',\n",
      " 'batch_name': '__batch__',\n",
      " 'task_name': '__test__',\n",
      " 'task_root': 'workspace'}\n"
     ]
    }
   ],
   "source": [
    "HyFI.print(cfg)\n"
   ]
  },
  {
   "attachments": {},
   "cell_type": "markdown",
   "metadata": {},
   "source": [
    "That's it! This example demonstrated the basic usage of the `hyfi_template` package. You can now use this package to manage your own projects and tasks in a structured manner.\n"
   ]
  },
  {
   "cell_type": "markdown",
   "metadata": {},
   "source": []
  }
 ],
 "metadata": {
  "colab": {
   "name": "corpus.ipynb",
   "provenance": []
  },
  "interpreter": {
   "hash": "f869af7787e6a1c49e09e367fc6e1b81d93d1c6583b43249c80edc047bd13cb2"
  },
  "kernelspec": {
   "display_name": "Python 3",
   "language": "python",
   "name": "python3"
  },
  "language_info": {
   "codemirror_mode": {
    "name": "ipython",
    "version": 3
   },
   "file_extension": ".py",
   "mimetype": "text/x-python",
   "name": "python",
   "nbconvert_exporter": "python",
   "pygments_lexer": "ipython3",
   "version": "3.8.10"
  },
  "widgets": {
   "application/vnd.jupyter.widget-state+json": {
    "state": {},
    "version_major": 2,
    "version_minor": 0
   }
  }
 },
 "nbformat": 4,
 "nbformat_minor": 1
}
